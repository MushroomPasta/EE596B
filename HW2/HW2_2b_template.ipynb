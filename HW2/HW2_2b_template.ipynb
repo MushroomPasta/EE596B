{
 "cells": [
  {
   "cell_type": "code",
   "execution_count": 2,
   "metadata": {},
   "outputs": [
    {
     "name": "stderr",
     "output_type": "stream",
     "text": [
      "Using TensorFlow backend.\n"
     ]
    }
   ],
   "source": [
    "from __future__ import print_function\n",
    "import keras\n",
    "import tensorflow as tf\n",
    "from keras.datasets import cifar10\n",
    "from keras.preprocessing.image import ImageDataGenerator\n",
    "from keras.models import Sequential\n",
    "from keras.layers import Dense, Dropout, Activation, Flatten\n",
    "from keras.layers import Conv2D, MaxPooling2D\n",
    "import os\n",
    "from keras import layers\n",
    "import numpy as np\n",
    "import matplotlib.pyplot as plt"
   ]
  },
  {
   "cell_type": "code",
   "execution_count": 3,
   "metadata": {},
   "outputs": [],
   "source": [
    "tf.reset_default_graph()"
   ]
  },
  {
   "cell_type": "markdown",
   "metadata": {},
   "source": [
    "<h1>Define Hyper-perparmeter</h1>"
   ]
  },
  {
   "cell_type": "code",
   "execution_count": 4,
   "metadata": {},
   "outputs": [
    {
     "name": "stdout",
     "output_type": "stream",
     "text": [
      "(50000, 32, 32, 3)\n"
     ]
    }
   ],
   "source": [
    "batch_size = 64\n",
    "num_classes = 10\n",
    "epochs = 10\n",
    "(x_train, y_train), (x_test, y_test) = cifar10.load_data()\n",
    "y_train = keras.utils.to_categorical(y_train, num_classes)\n",
    "y_test = keras.utils.to_categorical(y_test, num_classes)\n",
    "print(np.shape(x_train))"
   ]
  },
  {
   "cell_type": "markdown",
   "metadata": {},
   "source": [
    "<h1>Define Placeholder</h1>"
   ]
  },
  {
   "cell_type": "code",
   "execution_count": 5,
   "metadata": {},
   "outputs": [],
   "source": [
    "# Input - Layer\n",
    "model = Sequential()\n",
    "model.add(layers.Flatten())\n",
    "model.add(layers.Dense(300, activation = \"relu\",input_shape=(50000,32*32*3), kernel_initializer=keras.initializers.glorot_normal(seed=None),\n",
    "                bias_initializer=keras.initializers.Zeros()))\n",
    "# Hidden - Layers\n",
    "#model.add(layers.Dropout(0.3, noise_shape=None, seed=None))\n",
    "model.add(layers.Dense(1024, activation = \"sigmoid\", kernel_initializer=keras.initializers.glorot_normal(seed=None),\n",
    "                bias_initializer=keras.initializers.Zeros()))\n",
    "#model.add(layers.Dropout(0.2, noise_shape=None, seed=None))\n",
    "model.add(layers.Dense(1024, activation = \"sigmoid\", kernel_initializer=keras.initializers.glorot_normal(seed=None),\n",
    "                bias_initializer=keras.initializers.Zeros()))\n",
    "model.add(layers.Dense(1024, activation = \"sigmoid\", kernel_initializer=keras.initializers.glorot_normal(seed=None),\n",
    "                bias_initializer=keras.initializers.Zeros()))\n",
    "# Output- Layer\n",
    "#model.add(layers.Flatten())\n",
    "model.add(layers.Dense(10, activation = \"softmax\"))\n"
   ]
  },
  {
   "cell_type": "markdown",
   "metadata": {},
   "source": [
    "<h1>Define Neural Network Architecture</h1>"
   ]
  },
  {
   "cell_type": "code",
   "execution_count": null,
   "metadata": {},
   "outputs": [],
   "source": []
  },
  {
   "cell_type": "markdown",
   "metadata": {},
   "source": [
    "<h1>Define cost andoptimization</h1>"
   ]
  },
  {
   "cell_type": "code",
   "execution_count": 6,
   "metadata": {},
   "outputs": [
    {
     "name": "stdout",
     "output_type": "stream",
     "text": [
      "WARNING:tensorflow:From D:\\Anaconda\\lib\\site-packages\\tensorflow\\python\\framework\\op_def_library.py:263: colocate_with (from tensorflow.python.framework.ops) is deprecated and will be removed in a future version.\n",
      "Instructions for updating:\n",
      "Colocations handled automatically by placer.\n"
     ]
    }
   ],
   "source": [
    "# initiate RMSprop optimizer\n",
    "#opt = keras.optimizers.rmsprop(lr=0.001, decay=1e-6)\n",
    "model.compile(loss='categorical_crossentropy',\n",
    "              optimizer='adam',\n",
    "              metrics=['accuracy'])\n",
    "\n",
    "x_train = x_train.astype('float32')\n",
    "x_test = x_test.astype('float32')\n",
    "x_train /= 255\n",
    "x_test /= 255"
   ]
  },
  {
   "cell_type": "markdown",
   "metadata": {},
   "source": [
    "<h1>Training and testing</h1>\n",
    "<h2>1.Print out validation accuracy after each training poch</h2>\n",
    "<h2>2.Print out training time you spend on each epoch</h2>\n",
    "<h2>3.Print out testing accuracy in the end</h2>"
   ]
  },
  {
   "cell_type": "code",
   "execution_count": 7,
   "metadata": {
    "scrolled": false
   },
   "outputs": [
    {
     "name": "stdout",
     "output_type": "stream",
     "text": [
      "WARNING:tensorflow:From D:\\Anaconda\\lib\\site-packages\\tensorflow\\python\\ops\\math_ops.py:3066: to_int32 (from tensorflow.python.ops.math_ops) is deprecated and will be removed in a future version.\n",
      "Instructions for updating:\n",
      "Use tf.cast instead.\n",
      "Train on 50000 samples, validate on 10000 samples\n",
      "Epoch 1/10\n",
      "50000/50000 [==============================] - 6s 116us/step - loss: 2.0230 - acc: 0.2400 - val_loss: 1.9156 - val_acc: 0.3058\n",
      "Epoch 2/10\n",
      "50000/50000 [==============================] - 4s 82us/step - loss: 1.7530 - acc: 0.3634 - val_loss: 1.6617 - val_acc: 0.3974\n",
      "Epoch 3/10\n",
      "50000/50000 [==============================] - 4s 82us/step - loss: 1.6488 - acc: 0.4029 - val_loss: 1.6038 - val_acc: 0.4276\n",
      "Epoch 4/10\n",
      "50000/50000 [==============================] - 4s 81us/step - loss: 1.5769 - acc: 0.4322 - val_loss: 1.5765 - val_acc: 0.4387\n",
      "Epoch 5/10\n",
      "50000/50000 [==============================] - 4s 81us/step - loss: 1.5165 - acc: 0.4564 - val_loss: 1.4905 - val_acc: 0.4686\n",
      "Epoch 6/10\n",
      "50000/50000 [==============================] - 4s 81us/step - loss: 1.4691 - acc: 0.4724 - val_loss: 1.4812 - val_acc: 0.4727\n",
      "Epoch 7/10\n",
      "50000/50000 [==============================] - 4s 82us/step - loss: 1.4350 - acc: 0.4846 - val_loss: 1.4688 - val_acc: 0.4779\n",
      "Epoch 8/10\n",
      "50000/50000 [==============================] - 4s 83us/step - loss: 1.3984 - acc: 0.4959 - val_loss: 1.4882 - val_acc: 0.4665\n",
      "Epoch 9/10\n",
      "50000/50000 [==============================] - 4s 82us/step - loss: 1.3592 - acc: 0.5117 - val_loss: 1.4472 - val_acc: 0.4800\n",
      "Epoch 10/10\n",
      "50000/50000 [==============================] - 4s 82us/step - loss: 1.3255 - acc: 0.5219 - val_loss: 1.4122 - val_acc: 0.5003\n"
     ]
    },
    {
     "data": {
      "image/png": "[encoded data removed]",
      "text/plain": [
       "<Figure size 432x288 with 1 Axes>"
      ]
     },
     "metadata": {
      "needs_background": "light"
     },
     "output_type": "display_data"
    },
    {
     "data": {
      "image/png": "[encoded data removed]",
      "text/plain": [
       "<Figure size 432x288 with 1 Axes>"
      ]
     },
     "metadata": {
      "needs_background": "light"
     },
     "output_type": "display_data"
    }
   ],
   "source": [
    "history = model.fit(x_train, y_train,\n",
    "              batch_size=batch_size,\n",
    "              epochs=epochs,\n",
    "              validation_data=(x_test, y_test),\n",
    "              shuffle=True)\n",
    "\n",
    "# summarize history for accuracy\n",
    "plt.plot(history.history['acc'])\n",
    "plt.plot(history.history['val_acc'])\n",
    "plt.title('model accuracy')\n",
    "plt.ylabel('accuracy')\n",
    "plt.xlabel('epoch')\n",
    "plt.legend(['train', 'test'], loc='upper left')\n",
    "plt.show()\n",
    "# summarize history for loss\n",
    "plt.plot(history.history['loss'])\n",
    "plt.plot(history.history['val_loss'])\n",
    "plt.title('model loss')\n",
    "plt.ylabel('loss')\n",
    "plt.xlabel('epoch')\n",
    "plt.legend(['train', 'test'], loc='upper left')\n",
    "plt.show()\n"
   ]
  },
  {
   "cell_type": "code",
   "execution_count": 12,
   "metadata": {},
   "outputs": [
    {
     "name": "stdout",
     "output_type": "stream",
     "text": [
      "10000/10000 [==============================] - 0s 42us/step\n",
      "loss and accuracy on test data: [1.4121865634918214, 0.5003]\n"
     ]
    }
   ],
   "source": [
    "lossAndMetrics = model.evaluate(x_test, y_test)\n",
    "print('loss and accuracy on test data:',lossAndMetrics)"
   ]
  },
  {
   "cell_type": "markdown",
   "metadata": {},
   "source": [
    "Different from problems with one dimension input, image input needs to be flattened before feed into the network. For this multi-classification model, I use sigmoid as activation function for hidden layers and softmax function for output layer. I have tried Rmsprop and Adam optimizer and the latter works better. The testing reasult is fairly close to the training result, which indicates that there is no overfitting."
   ]
  }
 ],
 "metadata": {
  "kernelspec": {
   "display_name": "Python 3",
   "language": "python",
   "name": "python3"
  },
  "language_info": {
   "codemirror_mode": {
    "name": "ipython",
    "version": 3
   },
   "file_extension": ".py",
   "mimetype": "text/x-python",
   "name": "python",
   "nbconvert_exporter": "python",
   "pygments_lexer": "ipython3",
   "version": "3.7.1"
  }
 },
 "nbformat": 4,
 "nbformat_minor": 2
}
