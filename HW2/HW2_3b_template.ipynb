{
 "cells": [
  {
   "cell_type": "code",
   "execution_count": 17,
   "metadata": {},
   "outputs": [],
   "source": [
    "import keras\n",
    "from keras import optimizers\n",
    "from keras.datasets import cifar10\n",
    "from keras.models import Sequential\n",
    "from keras.layers import Conv2D, Dense, Flatten, MaxPooling2D, Dropout\n",
    "from keras.callbacks import LearningRateScheduler, TensorBoard\n",
    "# load data\n",
    "(x_train, y_train), (x_test, y_test) = cifar10.load_data()\n",
    "y_train = keras.utils.to_categorical(y_train, 10)\n",
    "y_test = keras.utils.to_categorical(y_test, 10)\n",
    "x_train = x_train.astype('float32')\n",
    "x_test = x_test.astype('float32')\n",
    "x_train /= 255.0\n",
    "x_test /= 255.0"
   ]
  },
  {
   "cell_type": "markdown",
   "metadata": {},
   "source": [
    "<h1>Hyperparameter</h1>"
   ]
  },
  {
   "cell_type": "code",
   "execution_count": 39,
   "metadata": {},
   "outputs": [],
   "source": [
    "epochs = 10\n",
    "def scheduler(epoch):\n",
    "    if epoch < 100:\n",
    "        return 0.004\n",
    "    if epoch < 150:\n",
    "        return 0.005\n",
    "    return 0.001"
   ]
  },
  {
   "cell_type": "markdown",
   "metadata": {},
   "source": [
    "<h1>Placeholder</h1>"
   ]
  },
  {
   "cell_type": "markdown",
   "metadata": {},
   "source": [
    "<h1>LeNet-5</h1>"
   ]
  },
  {
   "cell_type": "code",
   "execution_count": 45,
   "metadata": {},
   "outputs": [],
   "source": [
    "def build_model():\n",
    "    model = Sequential()\n",
    "    model.add(Conv2D(6, (5, 5), padding='valid', activation = 'relu', kernel_initializer='he_normal', input_shape=(32,32,3)))\n",
    "    model.add(MaxPooling2D((2, 2), strides=(2, 2)))\n",
    "    model.add(Conv2D(16, (5, 5), padding='valid', activation = 'relu', kernel_initializer='he_normal'))\n",
    "    model.add(MaxPooling2D((2, 2), strides=(2, 2)))\n",
    "    model.add(Flatten())\n",
    "    model.add(Dense(120, activation = 'relu', kernel_initializer='he_normal'))\n",
    "    model.add(Dropout(0.1))\n",
    "    model.add(Dense(84, activation = 'relu', kernel_initializer='he_normal'))\n",
    "    model.add(Dropout(0.1))\n",
    "    model.add(Dense(10, activation = 'softmax', kernel_initializer='he_normal'))\n",
    "    sgd = optimizers.SGD(lr=.1, momentum=0.9, nesterov=True)\n",
    "    model.compile(loss='categorical_crossentropy', optimizer=sgd, metrics=['accuracy'])\n",
    "    return model\n",
    "# build network\n",
    "model = build_model()\n",
    "\n",
    "# set callback\n",
    "tb_cb = TensorBoard(log_dir='./lenet', histogram_freq=0)\n",
    "change_lr = LearningRateScheduler(scheduler)\n",
    "cbks = [change_lr,tb_cb]"
   ]
  },
  {
   "cell_type": "markdown",
   "metadata": {},
   "source": [
    "<h1>Cost and Optimization</h1>"
   ]
  },
  {
   "cell_type": "markdown",
   "metadata": {},
   "source": [
    "<h1>Training, validation and testing</h1>\n",
    "<h2>Train your model only 10 epochs.</h2>\n",
    "<h2>1.Print out validation accuracy after each training epoch</h2>\n",
    "<h2>2.Print out training time for each training epoch</h2>\n",
    "<h2>3.Print out testing accuracy</h2>"
   ]
  },
  {
   "cell_type": "code",
   "execution_count": 46,
   "metadata": {},
   "outputs": [
    {
     "name": "stdout",
     "output_type": "stream",
     "text": [
      "Train on 50000 samples, validate on 10000 samples\n",
      "Epoch 1/10\n",
      "50000/50000 [==============================] - 4s 72us/step - loss: 1.8378 - acc: 0.3195 - val_loss: 1.5908 - val_acc: 0.4253\n",
      "Epoch 2/10\n",
      "50000/50000 [==============================] - 3s 65us/step - loss: 1.5603 - acc: 0.4309 - val_loss: 1.5633 - val_acc: 0.4318\n",
      "Epoch 3/10\n",
      "50000/50000 [==============================] - 3s 65us/step - loss: 1.4435 - acc: 0.4757 - val_loss: 1.3580 - val_acc: 0.5080\n",
      "Epoch 4/10\n",
      "50000/50000 [==============================] - 3s 65us/step - loss: 1.3621 - acc: 0.5107 - val_loss: 1.3809 - val_acc: 0.4979\n",
      "Epoch 5/10\n",
      "50000/50000 [==============================] - 3s 64us/step - loss: 1.3063 - acc: 0.5307 - val_loss: 1.2477 - val_acc: 0.5524\n",
      "Epoch 6/10\n",
      "50000/50000 [==============================] - 3s 65us/step - loss: 1.2560 - acc: 0.5514 - val_loss: 1.2392 - val_acc: 0.5612\n",
      "Epoch 7/10\n",
      "50000/50000 [==============================] - 3s 65us/step - loss: 1.2139 - acc: 0.5667 - val_loss: 1.1770 - val_acc: 0.5875\n",
      "Epoch 8/10\n",
      "50000/50000 [==============================] - 3s 65us/step - loss: 1.1806 - acc: 0.5775 - val_loss: 1.1566 - val_acc: 0.5905\n",
      "Epoch 9/10\n",
      "50000/50000 [==============================] - 3s 65us/step - loss: 1.1487 - acc: 0.5935 - val_loss: 1.1803 - val_acc: 0.5783\n",
      "Epoch 10/10\n",
      "50000/50000 [==============================] - 3s 65us/step - loss: 1.1226 - acc: 0.6002 - val_loss: 1.1395 - val_acc: 0.5969\n"
     ]
    }
   ],
   "source": [
    "# start train\n",
    "history =model.fit(x_train, y_train,\n",
    "          batch_size=64,\n",
    "          epochs=10,\n",
    "          callbacks=cbks,\n",
    "          validation_data=(x_test, y_test),\n",
    "          shuffle=True)\n",
    "#reference:github.com/BIGBALLON/cifar-10-cnn/tree/master/1_Lecun_Network\n",
    "\n"
   ]
  },
  {
   "cell_type": "code",
   "execution_count": 47,
   "metadata": {},
   "outputs": [
    {
     "name": "stdout",
     "output_type": "stream",
     "text": [
      "10000/10000 [==============================] - 0s 28us/step\n"
     ]
    }
   ],
   "source": [
    "# Evaluate the model\n",
    "(loss, accuracy) = model.evaluate(\n",
    "    x_test, \n",
    "    y_test,\n",
    "    batch_size = 128, \n",
    "    verbose = 1)"
   ]
  },
  {
   "cell_type": "code",
   "execution_count": 48,
   "metadata": {},
   "outputs": [
    {
     "data": {
      "image/png": "[encoded data removed]",
      "text/plain": [
       "<Figure size 432x288 with 1 Axes>"
      ]
     },
     "metadata": {
      "needs_background": "light"
     },
     "output_type": "display_data"
    },
    {
     "data": {
      "image/png": "[encoded data removed]",
      "text/plain": [
       "<Figure size 432x288 with 1 Axes>"
      ]
     },
     "metadata": {
      "needs_background": "light"
     },
     "output_type": "display_data"
    },
    {
     "name": "stdout",
     "output_type": "stream",
     "text": [
      "loss and accuarcy on test data: 1.1394828590393067 0.5969\n"
     ]
    }
   ],
   "source": [
    "# summarize history for accuracy\n",
    "%matplotlib inline\n",
    "import matplotlib.pyplot as plt\n",
    "plt.plot(history.history['acc'])\n",
    "plt.plot(history.history['val_acc'])\n",
    "plt.title('model accuracy')\n",
    "plt.ylabel('accuracy')\n",
    "plt.xlabel('epoch')\n",
    "plt.legend(['train', 'test'], loc='upper left')\n",
    "plt.show()\n",
    "# summarize history for loss\n",
    "plt.plot(history.history['loss'])\n",
    "plt.plot(history.history['val_loss'])\n",
    "plt.title('model loss')\n",
    "plt.ylabel('loss')\n",
    "plt.xlabel('epoch')\n",
    "plt.legend(['train', 'test'], loc='upper left')\n",
    "plt.show()\n",
    "print('loss and accuarcy on test data:',loss,accuracy)"
   ]
  },
  {
   "cell_type": "code",
   "execution_count": null,
   "metadata": {},
   "outputs": [],
   "source": []
  }
 ],
 "metadata": {
  "kernelspec": {
   "display_name": "Python 3",
   "language": "python",
   "name": "python3"
  },
  "language_info": {
   "codemirror_mode": {
    "name": "ipython",
    "version": 3
   },
   "file_extension": ".py",
   "mimetype": "text/x-python",
   "name": "python",
   "nbconvert_exporter": "python",
   "pygments_lexer": "ipython3",
   "version": "3.7.1"
  }
 },
 "nbformat": 4,
 "nbformat_minor": 2
}
