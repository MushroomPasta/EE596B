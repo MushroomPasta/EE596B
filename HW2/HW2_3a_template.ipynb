{
 "cells": [
  {
   "cell_type": "code",
   "execution_count": 1,
   "metadata": {},
   "outputs": [
    {
     "name": "stderr",
     "output_type": "stream",
     "text": [
      "Using TensorFlow backend.\n"
     ]
    }
   ],
   "source": [
    "# LeNet for MNIST using Keras and TensorFlow\n",
    "\n",
    "from keras.layers.convolutional import Convolution2D\n",
    "from keras.layers.convolutional import MaxPooling2D\n",
    "from keras.layers.core import Activation\n",
    "from keras.layers.core import Flatten\n",
    "from keras.layers.core import Dense\n",
    "from keras.models import Sequential\n",
    "from keras.optimizers import SGD\n",
    "from keras.utils import np_utils\n",
    "from sklearn.model_selection import train_test_split\n",
    "from sklearn import datasets\n",
    "import numpy as np\n"
   ]
  },
  {
   "cell_type": "markdown",
   "metadata": {},
   "source": [
    "<h1>Extract MNIST data</h1>"
   ]
  },
  {
   "cell_type": "code",
   "execution_count": 2,
   "metadata": {},
   "outputs": [
    {
     "name": "stderr",
     "output_type": "stream",
     "text": [
      "D:\\Anaconda\\lib\\site-packages\\sklearn\\utils\\deprecation.py:77: DeprecationWarning: Function fetch_mldata is deprecated; fetch_mldata was deprecated in version 0.20 and will be removed in version 0.22\n",
      "  warnings.warn(msg, category=DeprecationWarning)\n",
      "D:\\Anaconda\\lib\\site-packages\\sklearn\\utils\\deprecation.py:77: DeprecationWarning: Function mldata_filename is deprecated; mldata_filename was deprecated in version 0.20 and will be removed in version 0.22\n",
      "  warnings.warn(msg, category=DeprecationWarning)\n"
     ]
    }
   ],
   "source": [
    "# Download the MNIST dataset\n",
    "dataset = datasets.fetch_mldata(\"MNIST Original\")"
   ]
  },
  {
   "cell_type": "markdown",
   "metadata": {},
   "source": [
    "<h1>Prepare training, validation and testing data</h1>"
   ]
  },
  {
   "cell_type": "code",
   "execution_count": 3,
   "metadata": {},
   "outputs": [],
   "source": [
    "# Reshape the data to a (70000, 28, 28) tensor\n",
    "data = dataset.data.reshape((dataset.data.shape[0], 28, 28))\n",
    "\n",
    "# Reshape the data to a (70000, 28, 28, 1) tensord\n",
    "data = data[:, :, :, np.newaxis]\n",
    "\n",
    "# Scale values from range of [0-255] to [0-1]\n",
    "scaled_data = data / 255.0\n",
    "\n",
    "# Split the dataset into training and test sets\n",
    "(train_data, test_data, train_labels, test_labels) = train_test_split(\n",
    "    scaled_data,\n",
    "    dataset.target.astype(\"int\"), \n",
    "    test_size = 0.33)\n",
    "\n",
    "# Tranform training labels to one-hot encoding\n",
    "train_labels = np_utils.to_categorical(train_labels, 10)\n",
    "\n",
    "# Tranform test labels to one-hot encoding\n",
    "test_labels = np_utils.to_categorical(test_labels, 10)\n"
   ]
  },
  {
   "cell_type": "markdown",
   "metadata": {},
   "source": [
    "<h1>Define hyperparameter</h1>"
   ]
  },
  {
   "cell_type": "code",
   "execution_count": 4,
   "metadata": {},
   "outputs": [],
   "source": [
    "lr = 0.001\n",
    "batch_size = 128\n",
    "nb_epoch = 50"
   ]
  },
  {
   "cell_type": "markdown",
   "metadata": {},
   "source": [
    "<h1>Placeholder</h1>"
   ]
  },
  {
   "cell_type": "markdown",
   "metadata": {},
   "source": [
    "<h1>Define LeNet-5</h1>"
   ]
  },
  {
   "cell_type": "code",
   "execution_count": 5,
   "metadata": {},
   "outputs": [
    {
     "name": "stdout",
     "output_type": "stream",
     "text": [
      "WARNING:tensorflow:From D:\\Anaconda\\lib\\site-packages\\tensorflow\\python\\framework\\op_def_library.py:263: colocate_with (from tensorflow.python.framework.ops) is deprecated and will be removed in a future version.\n",
      "Instructions for updating:\n",
      "Colocations handled automatically by placer.\n"
     ]
    }
   ],
   "source": [
    "# Create a sequential model\n",
    "model = Sequential()\n",
    "\n",
    "# Add the first convolution layer\n",
    "model.add(Convolution2D(\n",
    "    filters = 20,\n",
    "    kernel_size = (5, 5),\n",
    "    padding = \"same\",\n",
    "    input_shape = (28, 28, 1)))\n",
    "\n",
    "# Add a ReLU activation function\n",
    "model.add(Activation(\n",
    "    activation = \"relu\"))\n",
    "\n",
    "# Add a pooling layer\n",
    "model.add(MaxPooling2D(\n",
    "    pool_size = (2, 2),\n",
    "    strides =  (2, 2)))\n",
    "\n",
    "# Add the second convolution layer\n",
    "model.add(Convolution2D(\n",
    "    filters = 50,\n",
    "    kernel_size = (5, 5),\n",
    "    padding = \"same\"))\n",
    "\n",
    "# Add a ReLU activation function\n",
    "model.add(Activation(\n",
    "    activation = \"relu\"))\n",
    "\n",
    "# Add a second pooling layer\n",
    "model.add(MaxPooling2D(\n",
    "    pool_size = (2, 2),\n",
    "    strides = (2, 2)))\n",
    "\n",
    "# Flatten the network\n",
    "model.add(Flatten())\n",
    "\n",
    "# Add a fully-connected hidden layer\n",
    "model.add(Dense(500))\n",
    "\n",
    "# Add a ReLU activation function\n",
    "model.add(Activation(\n",
    "    activation = \"relu\"))\n",
    "\n",
    "# Add a fully-connected output layer\n",
    "model.add(Dense(10))\n",
    "\n",
    "# Add a softmax activation function\n",
    "model.add(Activation(\"softmax\"))"
   ]
  },
  {
   "cell_type": "markdown",
   "metadata": {},
   "source": [
    "<h1>Cost and optimization</h1>"
   ]
  },
  {
   "cell_type": "code",
   "execution_count": 6,
   "metadata": {},
   "outputs": [],
   "source": [
    "model.compile(\n",
    "    loss = \"categorical_crossentropy\", \n",
    "    optimizer = SGD(lr = 0.01),\n",
    "    metrics = [\"accuracy\"])"
   ]
  },
  {
   "cell_type": "markdown",
   "metadata": {},
   "source": [
    "<h1>Training, validating, testing</h1>\n",
    "<h2>1. Print out validation accuracy after each training epoch</h2>\n",
    "<h2>2. Print out training time on each epoch</h2>\n",
    "<h2>3. Print out testing accuracy</h2>"
   ]
  },
  {
   "cell_type": "code",
   "execution_count": 7,
   "metadata": {},
   "outputs": [
    {
     "name": "stdout",
     "output_type": "stream",
     "text": [
      "WARNING:tensorflow:From D:\\Anaconda\\lib\\site-packages\\tensorflow\\python\\ops\\math_ops.py:3066: to_int32 (from tensorflow.python.ops.math_ops) is deprecated and will be removed in a future version.\n",
      "Instructions for updating:\n",
      "Use tf.cast instead.\n"
     ]
    },
    {
     "name": "stderr",
     "output_type": "stream",
     "text": [
      "D:\\Anaconda\\lib\\site-packages\\ipykernel_launcher.py:8: UserWarning: The `nb_epoch` argument in `fit` has been renamed `epochs`.\n",
      "  \n"
     ]
    },
    {
     "name": "stdout",
     "output_type": "stream",
     "text": [
      "Train on 46900 samples, validate on 23100 samples\n",
      "Epoch 1/40\n",
      "46900/46900 [==============================] - 5s 102us/step - loss: 1.1686 - acc: 0.6928 - val_loss: 0.3706 - val_acc: 0.8982\n",
      "Epoch 2/40\n",
      "46900/46900 [==============================] - 2s 42us/step - loss: 0.2992 - acc: 0.9120 - val_loss: 0.2801 - val_acc: 0.9139\n",
      "Epoch 3/40\n",
      "46900/46900 [==============================] - 2s 42us/step - loss: 0.2121 - acc: 0.9369 - val_loss: 0.1882 - val_acc: 0.9429\n",
      "Epoch 4/40\n",
      "46900/46900 [==============================] - 2s 42us/step - loss: 0.1663 - acc: 0.9512 - val_loss: 0.1661 - val_acc: 0.9475\n",
      "Epoch 5/40\n",
      "46900/46900 [==============================] - 2s 42us/step - loss: 0.1378 - acc: 0.9597 - val_loss: 0.1288 - val_acc: 0.9615\n",
      "Epoch 6/40\n",
      "46900/46900 [==============================] - 2s 42us/step - loss: 0.1178 - acc: 0.9652 - val_loss: 0.1322 - val_acc: 0.9583\n",
      "Epoch 7/40\n",
      "46900/46900 [==============================] - 2s 42us/step - loss: 0.1043 - acc: 0.9689 - val_loss: 0.1086 - val_acc: 0.9678\n",
      "Epoch 8/40\n",
      "46900/46900 [==============================] - 2s 42us/step - loss: 0.0926 - acc: 0.9728 - val_loss: 0.0989 - val_acc: 0.9692\n",
      "Epoch 9/40\n",
      "46900/46900 [==============================] - 2s 42us/step - loss: 0.0840 - acc: 0.9742 - val_loss: 0.1072 - val_acc: 0.9666\n",
      "Epoch 10/40\n",
      "46900/46900 [==============================] - 2s 42us/step - loss: 0.0766 - acc: 0.9768 - val_loss: 0.0812 - val_acc: 0.9755\n",
      "Epoch 11/40\n",
      "46900/46900 [==============================] - 2s 43us/step - loss: 0.0709 - acc: 0.9787 - val_loss: 0.1006 - val_acc: 0.9677\n",
      "Epoch 12/40\n",
      "46900/46900 [==============================] - 2s 42us/step - loss: 0.0659 - acc: 0.9804 - val_loss: 0.0772 - val_acc: 0.9761\n",
      "Epoch 13/40\n",
      "46900/46900 [==============================] - 2s 42us/step - loss: 0.0618 - acc: 0.9815 - val_loss: 0.0671 - val_acc: 0.9791\n",
      "Epoch 14/40\n",
      "46900/46900 [==============================] - 2s 43us/step - loss: 0.0581 - acc: 0.9820 - val_loss: 0.0714 - val_acc: 0.9781\n",
      "Epoch 15/40\n",
      "46900/46900 [==============================] - 2s 43us/step - loss: 0.0547 - acc: 0.9838 - val_loss: 0.0695 - val_acc: 0.9790\n",
      "Epoch 16/40\n",
      "46900/46900 [==============================] - 2s 43us/step - loss: 0.0517 - acc: 0.9847 - val_loss: 0.0644 - val_acc: 0.9808\n",
      "Epoch 17/40\n",
      "46900/46900 [==============================] - 2s 42us/step - loss: 0.0493 - acc: 0.9856 - val_loss: 0.0670 - val_acc: 0.9794\n",
      "Epoch 18/40\n",
      "46900/46900 [==============================] - 2s 43us/step - loss: 0.0469 - acc: 0.9855 - val_loss: 0.0587 - val_acc: 0.9816\n",
      "Epoch 19/40\n",
      "46900/46900 [==============================] - 2s 43us/step - loss: 0.0458 - acc: 0.9863 - val_loss: 0.0596 - val_acc: 0.9816\n",
      "Epoch 20/40\n",
      "46900/46900 [==============================] - 2s 42us/step - loss: 0.0430 - acc: 0.9868 - val_loss: 0.0554 - val_acc: 0.9828\n",
      "Epoch 21/40\n",
      "46900/46900 [==============================] - 2s 42us/step - loss: 0.0411 - acc: 0.9873 - val_loss: 0.0563 - val_acc: 0.9824\n",
      "Epoch 22/40\n",
      "46900/46900 [==============================] - 2s 42us/step - loss: 0.0392 - acc: 0.9880 - val_loss: 0.0556 - val_acc: 0.9832\n",
      "Epoch 23/40\n",
      "46900/46900 [==============================] - 2s 43us/step - loss: 0.0376 - acc: 0.9888 - val_loss: 0.0582 - val_acc: 0.9819\n",
      "Epoch 24/40\n",
      "46900/46900 [==============================] - 2s 42us/step - loss: 0.0365 - acc: 0.9890 - val_loss: 0.0519 - val_acc: 0.9842\n",
      "Epoch 25/40\n",
      "46900/46900 [==============================] - 2s 42us/step - loss: 0.0354 - acc: 0.9890 - val_loss: 0.0546 - val_acc: 0.9831\n",
      "Epoch 26/40\n",
      "46900/46900 [==============================] - 2s 43us/step - loss: 0.0339 - acc: 0.9899 - val_loss: 0.0522 - val_acc: 0.9830\n",
      "Epoch 27/40\n",
      "46900/46900 [==============================] - 2s 43us/step - loss: 0.0327 - acc: 0.9900 - val_loss: 0.0893 - val_acc: 0.9712\n",
      "Epoch 28/40\n",
      "46900/46900 [==============================] - 2s 42us/step - loss: 0.0318 - acc: 0.9904 - val_loss: 0.0532 - val_acc: 0.9839\n",
      "Epoch 29/40\n",
      "46900/46900 [==============================] - 2s 42us/step - loss: 0.0310 - acc: 0.9906 - val_loss: 0.0632 - val_acc: 0.9801\n",
      "Epoch 30/40\n",
      "46900/46900 [==============================] - 2s 42us/step - loss: 0.0289 - acc: 0.9911 - val_loss: 0.0509 - val_acc: 0.9845\n",
      "Epoch 31/40\n",
      "46900/46900 [==============================] - 2s 43us/step - loss: 0.0284 - acc: 0.9915 - val_loss: 0.0526 - val_acc: 0.9837\n",
      "Epoch 32/40\n",
      "46900/46900 [==============================] - 2s 43us/step - loss: 0.0272 - acc: 0.9920 - val_loss: 0.0726 - val_acc: 0.9773\n",
      "Epoch 33/40\n",
      "46900/46900 [==============================] - 2s 43us/step - loss: 0.0268 - acc: 0.9920 - val_loss: 0.0661 - val_acc: 0.9799\n",
      "Epoch 34/40\n",
      "46900/46900 [==============================] - 2s 43us/step - loss: 0.0253 - acc: 0.9926 - val_loss: 0.0537 - val_acc: 0.9835\n",
      "Epoch 35/40\n",
      "46900/46900 [==============================] - 2s 43us/step - loss: 0.0248 - acc: 0.9928 - val_loss: 0.0722 - val_acc: 0.9772\n",
      "Epoch 36/40\n",
      "46900/46900 [==============================] - 2s 42us/step - loss: 0.0240 - acc: 0.9930 - val_loss: 0.0454 - val_acc: 0.9864\n",
      "Epoch 37/40\n",
      "46900/46900 [==============================] - 2s 43us/step - loss: 0.0243 - acc: 0.9927 - val_loss: 0.0479 - val_acc: 0.9857\n",
      "Epoch 38/40\n",
      "46900/46900 [==============================] - 2s 42us/step - loss: 0.0228 - acc: 0.9931 - val_loss: 0.0493 - val_acc: 0.9847\n",
      "Epoch 39/40\n",
      "46900/46900 [==============================] - 2s 43us/step - loss: 0.0215 - acc: 0.9942 - val_loss: 0.0495 - val_acc: 0.9855\n",
      "Epoch 40/40\n",
      "46900/46900 [==============================] - 2s 42us/step - loss: 0.0210 - acc: 0.9941 - val_loss: 0.0430 - val_acc: 0.9857\n",
      "23100/23100 [==============================] - 0s 15us/step\n"
     ]
    }
   ],
   "source": [
    "# Train the model \n",
    "history = model.fit(\n",
    "    train_data, \n",
    "    train_labels, \n",
    "    batch_size = 128, \n",
    "    nb_epoch = 40,\n",
    "    validation_data=(test_data, test_labels),\n",
    "    verbose = 1)\n",
    "\n",
    "# Evaluate the model\n",
    "(loss, accuracy) = model.evaluate(\n",
    "    test_data, \n",
    "    test_labels,\n",
    "    batch_size = 128, \n",
    "    verbose = 1)\n"
   ]
  },
  {
   "cell_type": "code",
   "execution_count": 10,
   "metadata": {},
   "outputs": [
    {
     "data": {
      "image/png": "[encoded data removed]",
      "text/plain": [
       "<Figure size 432x288 with 1 Axes>"
      ]
     },
     "metadata": {
      "needs_background": "light"
     },
     "output_type": "display_data"
    },
    {
     "data": {
      "image/png": "[encoded data removed]",
      "text/plain": [
       "<Figure size 432x288 with 1 Axes>"
      ]
     },
     "metadata": {
      "needs_background": "light"
     },
     "output_type": "display_data"
    }
   ],
   "source": [
    "# summarize history for accuracy\n",
    "import matplotlib.pyplot as plt\n",
    "plt.plot(history.history['acc'])\n",
    "\n",
    "plt.title('model accuracy')\n",
    "plt.ylabel('accuracy')\n",
    "plt.xlabel('epoch')\n",
    "plt.legend(['train', 'test'], loc='upper left')\n",
    "plt.show()\n",
    "# summarize history for loss\n",
    "plt.plot(history.history['loss'])\n",
    "\n",
    "plt.title('model loss')\n",
    "plt.ylabel('loss')\n",
    "plt.xlabel('epoch')\n",
    "plt.legend(['train', 'test'], loc='upper left')\n",
    "plt.show()"
   ]
  },
  {
   "cell_type": "code",
   "execution_count": 11,
   "metadata": {},
   "outputs": [
    {
     "name": "stdout",
     "output_type": "stream",
     "text": [
      "loss and accuracy on test data: 0.04297132075284467 0.9856709957122802\n"
     ]
    }
   ],
   "source": [
    "\n",
    "print('loss and accuracy on test data:',loss,accuracy)"
   ]
  },
  {
   "cell_type": "code",
   "execution_count": null,
   "metadata": {},
   "outputs": [],
   "source": []
  }
 ],
 "metadata": {
  "kernelspec": {
   "display_name": "Python 3",
   "language": "python",
   "name": "python3"
  },
  "language_info": {
   "codemirror_mode": {
    "name": "ipython",
    "version": 3
   },
   "file_extension": ".py",
   "mimetype": "text/x-python",
   "name": "python",
   "nbconvert_exporter": "python",
   "pygments_lexer": "ipython3",
   "version": "3.7.1"
  }
 },
 "nbformat": 4,
 "nbformat_minor": 2
}
