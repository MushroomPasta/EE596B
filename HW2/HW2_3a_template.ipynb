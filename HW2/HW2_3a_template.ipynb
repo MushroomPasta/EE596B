{
 "cells": [
  {
   "cell_type": "code",
   "execution_count": 1,
   "metadata": {},
   "outputs": [
    {
     "name": "stderr",
     "output_type": "stream",
     "text": [
      "Using TensorFlow backend.\n"
     ]
    }
   ],
   "source": [
    "# LeNet for MNIST using Keras and TensorFlow\n",
    "\n",
    "from keras.layers.convolutional import Convolution2D\n",
    "from keras.layers.convolutional import MaxPooling2D\n",
    "from keras.layers.core import Activation\n",
    "from keras.layers.core import Flatten\n",
    "from keras.layers.core import Dense\n",
    "from keras.models import Sequential\n",
    "from keras.optimizers import SGD\n",
    "from keras.utils import np_utils\n",
    "from sklearn.model_selection import train_test_split\n",
    "from sklearn import datasets\n",
    "import numpy as np\n"
   ]
  },
  {
   "cell_type": "markdown",
   "metadata": {},
   "source": [
    "<h1>Extract MNIST data</h1>"
   ]
  },
  {
   "cell_type": "code",
   "execution_count": 2,
   "metadata": {},
   "outputs": [
    {
     "name": "stderr",
     "output_type": "stream",
     "text": [
      "D:\\Anaconda\\lib\\site-packages\\sklearn\\utils\\deprecation.py:77: DeprecationWarning: Function fetch_mldata is deprecated; fetch_mldata was deprecated in version 0.20 and will be removed in version 0.22\n",
      "  warnings.warn(msg, category=DeprecationWarning)\n",
      "D:\\Anaconda\\lib\\site-packages\\sklearn\\utils\\deprecation.py:77: DeprecationWarning: Function mldata_filename is deprecated; mldata_filename was deprecated in version 0.20 and will be removed in version 0.22\n",
      "  warnings.warn(msg, category=DeprecationWarning)\n"
     ]
    }
   ],
   "source": [
    "# Download the MNIST dataset\n",
    "dataset = datasets.fetch_mldata(\"MNIST Original\")"
   ]
  },
  {
   "cell_type": "markdown",
   "metadata": {},
   "source": [
    "<h1>Prepare training, validation and testing data</h1>"
   ]
  },
  {
   "cell_type": "code",
   "execution_count": 3,
   "metadata": {},
   "outputs": [],
   "source": [
    "# Reshape the data to a (70000, 28, 28) tensor\n",
    "data = dataset.data.reshape((dataset.data.shape[0], 28, 28))\n",
    "\n",
    "# Reshape the data to a (70000, 28, 28, 1) tensord\n",
    "data = data[:, :, :, np.newaxis]\n",
    "\n",
    "# Scale values from range of [0-255] to [0-1]\n",
    "scaled_data = data / 255.0\n",
    "\n",
    "# Split the dataset into training and test sets\n",
    "(train_data, test_data, train_labels, test_labels) = train_test_split(\n",
    "    scaled_data,\n",
    "    dataset.target.astype(\"int\"), \n",
    "    test_size = 0.33)\n",
    "\n",
    "# Tranform training labels to one-hot encoding\n",
    "train_labels = np_utils.to_categorical(train_labels, 10)\n",
    "\n",
    "# Tranform test labels to one-hot encoding\n",
    "test_labels = np_utils.to_categorical(test_labels, 10)\n"
   ]
  },
  {
   "cell_type": "markdown",
   "metadata": {},
   "source": [
    "<h1>Define hyperparameter</h1>"
   ]
  },
  {
   "cell_type": "code",
   "execution_count": 4,
   "metadata": {},
   "outputs": [],
   "source": [
    "lr = 0.001\n",
    "batch_size = 128\n",
    "nb_epoch = 50"
   ]
  },
  {
   "cell_type": "markdown",
   "metadata": {},
   "source": [
    "<h1>Placeholder</h1>"
   ]
  },
  {
   "cell_type": "markdown",
   "metadata": {},
   "source": [
    "<h1>Define LeNet-5</h1>"
   ]
  },
  {
   "cell_type": "code",
   "execution_count": 5,
   "metadata": {},
   "outputs": [
    {
     "name": "stdout",
     "output_type": "stream",
     "text": [
      "WARNING:tensorflow:From D:\\Anaconda\\lib\\site-packages\\tensorflow\\python\\framework\\op_def_library.py:263: colocate_with (from tensorflow.python.framework.ops) is deprecated and will be removed in a future version.\n",
      "Instructions for updating:\n",
      "Colocations handled automatically by placer.\n"
     ]
    }
   ],
   "source": [
    "# Create a sequential model\n",
    "model = Sequential()\n",
    "\n",
    "# Add the first convolution layer\n",
    "model.add(Convolution2D(\n",
    "    filters = 20,\n",
    "    kernel_size = (5, 5),\n",
    "    padding = \"same\",\n",
    "    input_shape = (28, 28, 1)))\n",
    "\n",
    "# Add a ReLU activation function\n",
    "model.add(Activation(\n",
    "    activation = \"relu\"))\n",
    "\n",
    "# Add a pooling layer\n",
    "model.add(MaxPooling2D(\n",
    "    pool_size = (2, 2),\n",
    "    strides =  (2, 2)))\n",
    "\n",
    "# Add the second convolution layer\n",
    "model.add(Convolution2D(\n",
    "    filters = 50,\n",
    "    kernel_size = (5, 5),\n",
    "    padding = \"same\"))\n",
    "\n",
    "# Add a ReLU activation function\n",
    "model.add(Activation(\n",
    "    activation = \"relu\"))\n",
    "\n",
    "# Add a second pooling layer\n",
    "model.add(MaxPooling2D(\n",
    "    pool_size = (2, 2),\n",
    "    strides = (2, 2)))\n",
    "\n",
    "# Flatten the network\n",
    "model.add(Flatten())\n",
    "\n",
    "# Add a fully-connected hidden layer\n",
    "model.add(Dense(500))\n",
    "\n",
    "# Add a ReLU activation function\n",
    "model.add(Activation(\n",
    "    activation = \"relu\"))\n",
    "\n",
    "# Add a fully-connected output layer\n",
    "model.add(Dense(10))\n",
    "\n",
    "# Add a softmax activation function\n",
    "model.add(Activation(\"softmax\"))"
   ]
  },
  {
   "cell_type": "markdown",
   "metadata": {},
   "source": [
    "<h1>Cost and optimization</h1>"
   ]
  },
  {
   "cell_type": "code",
   "execution_count": 15,
   "metadata": {},
   "outputs": [],
   "source": [
    "model.compile(\n",
    "    loss = \"categorical_crossentropy\", \n",
    "    optimizer = SGD(lr = 0.01),\n",
    "    metrics = [\"accuracy\"])"
   ]
  },
  {
   "cell_type": "markdown",
   "metadata": {},
   "source": [
    "<h1>Training, validating, testing</h1>\n",
    "<h2>1. Print out validation accuracy after each training epoch</h2>\n",
    "<h2>2. Print out training time on each epoch</h2>\n",
    "<h2>3. Print out testing accuracy</h2>"
   ]
  },
  {
   "cell_type": "code",
   "execution_count": 16,
   "metadata": {},
   "outputs": [
    {
     "name": "stderr",
     "output_type": "stream",
     "text": [
      "D:\\Anaconda\\lib\\site-packages\\ipykernel_launcher.py:8: UserWarning: The `nb_epoch` argument in `fit` has been renamed `epochs`.\n",
      "  \n"
     ]
    },
    {
     "name": "stdout",
     "output_type": "stream",
     "text": [
      "Train on 46900 samples, validate on 23100 samples\n",
      "Epoch 1/40\n",
      "46900/46900 [==============================] - 2s 47us/step - loss: 0.1375 - acc: 0.9804 - val_loss: 0.0714 - val_acc: 0.9765\n",
      "Epoch 2/40\n",
      "46900/46900 [==============================] - 2s 42us/step - loss: 0.0349 - acc: 0.9893 - val_loss: 0.1113 - val_acc: 0.9668\n",
      "Epoch 3/40\n",
      "46900/46900 [==============================] - 2s 42us/step - loss: 0.0326 - acc: 0.9895 - val_loss: 0.2238 - val_acc: 0.9306\n",
      "Epoch 4/40\n",
      "46900/46900 [==============================] - 2s 42us/step - loss: 0.0339 - acc: 0.9894 - val_loss: 0.0686 - val_acc: 0.9772\n",
      "Epoch 5/40\n",
      "46900/46900 [==============================] - 2s 42us/step - loss: 0.0297 - acc: 0.9910 - val_loss: 0.0527 - val_acc: 0.9832\n",
      "Epoch 6/40\n",
      "46900/46900 [==============================] - 2s 41us/step - loss: 0.0281 - acc: 0.9914 - val_loss: 0.0556 - val_acc: 0.9827\n",
      "Epoch 7/40\n",
      "46900/46900 [==============================] - 2s 42us/step - loss: 0.0275 - acc: 0.9914 - val_loss: 0.0583 - val_acc: 0.9826\n",
      "Epoch 8/40\n",
      "46900/46900 [==============================] - 2s 41us/step - loss: 0.0261 - acc: 0.9920 - val_loss: 0.0492 - val_acc: 0.9840\n",
      "Epoch 9/40\n",
      "46900/46900 [==============================] - 2s 42us/step - loss: 0.0249 - acc: 0.9924 - val_loss: 0.0559 - val_acc: 0.9836\n",
      "Epoch 10/40\n",
      "46900/46900 [==============================] - 2s 41us/step - loss: 0.0252 - acc: 0.9921 - val_loss: 0.0739 - val_acc: 0.9789\n",
      "Epoch 11/40\n",
      "46900/46900 [==============================] - 2s 42us/step - loss: 0.0237 - acc: 0.9930 - val_loss: 0.0492 - val_acc: 0.9843\n",
      "Epoch 12/40\n",
      "46900/46900 [==============================] - 2s 42us/step - loss: 0.0231 - acc: 0.9933 - val_loss: 0.0892 - val_acc: 0.9722\n",
      "Epoch 13/40\n",
      "46900/46900 [==============================] - 2s 42us/step - loss: 0.0223 - acc: 0.9930 - val_loss: 0.0460 - val_acc: 0.9858\n",
      "Epoch 14/40\n",
      "46900/46900 [==============================] - 2s 42us/step - loss: 0.0219 - acc: 0.9937 - val_loss: 0.0514 - val_acc: 0.9848\n",
      "Epoch 15/40\n",
      "46900/46900 [==============================] - 2s 42us/step - loss: 0.0218 - acc: 0.9935 - val_loss: 0.0452 - val_acc: 0.9861\n",
      "Epoch 16/40\n",
      "46900/46900 [==============================] - 2s 42us/step - loss: 0.0202 - acc: 0.9941 - val_loss: 0.0553 - val_acc: 0.9831\n",
      "Epoch 17/40\n",
      "46900/46900 [==============================] - 2s 42us/step - loss: 0.0200 - acc: 0.9942 - val_loss: 0.0485 - val_acc: 0.9859\n",
      "Epoch 18/40\n",
      "46900/46900 [==============================] - 2s 42us/step - loss: 0.0192 - acc: 0.9946 - val_loss: 0.0434 - val_acc: 0.9871\n",
      "Epoch 19/40\n",
      "46900/46900 [==============================] - 2s 42us/step - loss: 0.0190 - acc: 0.9944 - val_loss: 0.0797 - val_acc: 0.9751\n",
      "Epoch 20/40\n",
      "46900/46900 [==============================] - 2s 42us/step - loss: 0.0182 - acc: 0.9946 - val_loss: 0.0462 - val_acc: 0.9863\n",
      "Epoch 21/40\n",
      "46900/46900 [==============================] - 2s 42us/step - loss: 0.0174 - acc: 0.9953 - val_loss: 0.0429 - val_acc: 0.9871\n",
      "Epoch 22/40\n",
      "46900/46900 [==============================] - 2s 42us/step - loss: 0.0172 - acc: 0.9950 - val_loss: 0.0832 - val_acc: 0.9766\n",
      "Epoch 23/40\n",
      "46900/46900 [==============================] - 2s 42us/step - loss: 0.0166 - acc: 0.9955 - val_loss: 0.0425 - val_acc: 0.9874\n",
      "Epoch 24/40\n",
      "46900/46900 [==============================] - 2s 42us/step - loss: 0.0156 - acc: 0.9957 - val_loss: 0.0453 - val_acc: 0.9865\n",
      "Epoch 25/40\n",
      "46900/46900 [==============================] - 2s 43us/step - loss: 0.0152 - acc: 0.9959 - val_loss: 0.0656 - val_acc: 0.9815\n",
      "Epoch 26/40\n",
      "46900/46900 [==============================] - 2s 42us/step - loss: 0.0153 - acc: 0.9958 - val_loss: 0.0432 - val_acc: 0.9876\n",
      "Epoch 27/40\n",
      "46900/46900 [==============================] - 2s 43us/step - loss: 0.0149 - acc: 0.9961 - val_loss: 0.0486 - val_acc: 0.9855\n",
      "Epoch 28/40\n",
      "46900/46900 [==============================] - 2s 42us/step - loss: 0.0146 - acc: 0.9958 - val_loss: 0.0533 - val_acc: 0.9834\n",
      "Epoch 29/40\n",
      "46900/46900 [==============================] - 2s 42us/step - loss: 0.0140 - acc: 0.9962 - val_loss: 0.0455 - val_acc: 0.9863\n",
      "Epoch 30/40\n",
      "46900/46900 [==============================] - 2s 42us/step - loss: 0.0159 - acc: 0.9958 - val_loss: 0.0428 - val_acc: 0.9875\n",
      "Epoch 31/40\n",
      "46900/46900 [==============================] - 2s 42us/step - loss: 0.0128 - acc: 0.9968 - val_loss: 0.0427 - val_acc: 0.9876\n",
      "Epoch 32/40\n",
      "46900/46900 [==============================] - 2s 42us/step - loss: 0.0123 - acc: 0.9969 - val_loss: 0.0452 - val_acc: 0.9876\n",
      "Epoch 33/40\n",
      "46900/46900 [==============================] - 2s 42us/step - loss: 0.0123 - acc: 0.9967 - val_loss: 0.0462 - val_acc: 0.9855\n",
      "Epoch 34/40\n",
      "46900/46900 [==============================] - 2s 42us/step - loss: 0.0121 - acc: 0.9971 - val_loss: 0.1004 - val_acc: 0.9727\n",
      "Epoch 35/40\n",
      "46900/46900 [==============================] - 2s 42us/step - loss: 0.0120 - acc: 0.9970 - val_loss: 0.0530 - val_acc: 0.9852\n",
      "Epoch 36/40\n",
      "46900/46900 [==============================] - 2s 42us/step - loss: 0.0114 - acc: 0.9970 - val_loss: 0.0465 - val_acc: 0.9868\n",
      "Epoch 37/40\n",
      "46900/46900 [==============================] - 2s 42us/step - loss: 0.0113 - acc: 0.9969 - val_loss: 0.0440 - val_acc: 0.9872\n",
      "Epoch 38/40\n",
      "46900/46900 [==============================] - 2s 42us/step - loss: 0.0110 - acc: 0.9972 - val_loss: 0.0434 - val_acc: 0.9874\n",
      "Epoch 39/40\n",
      "46900/46900 [==============================] - 2s 42us/step - loss: 0.0102 - acc: 0.9975 - val_loss: 0.0428 - val_acc: 0.9880\n",
      "Epoch 40/40\n",
      "46900/46900 [==============================] - 2s 42us/step - loss: 0.0098 - acc: 0.9975 - val_loss: 0.0468 - val_acc: 0.9862\n",
      "23100/23100 [==============================] - 0s 15us/step\n"
     ]
    }
   ],
   "source": [
    "# Train the model \n",
    "history = model.fit(\n",
    "    train_data, \n",
    "    train_labels, \n",
    "    batch_size = 128, \n",
    "    nb_epoch = 40,\n",
    "    validation_data=(test_data, test_labels),\n",
    "    verbose = 1)\n",
    "\n",
    "# Evaluate the model\n",
    "(loss, accuracy) = model.evaluate(\n",
    "    test_data, \n",
    "    test_labels,\n",
    "    batch_size = 128, \n",
    "    verbose = 1)\n"
   ]
  },
  {
   "cell_type": "code",
   "execution_count": 18,
   "metadata": {},
   "outputs": [
    {
     "data": {
      "image/png": "[encoded data removed]",
      "text/plain": [
       "<Figure size 432x288 with 1 Axes>"
      ]
     },
     "metadata": {
      "needs_background": "light"
     },
     "output_type": "display_data"
    },
    {
     "data": {
      "image/png": "[encoded data removed]",
      "text/plain": [
       "<Figure size 432x288 with 1 Axes>"
      ]
     },
     "metadata": {
      "needs_background": "light"
     },
     "output_type": "display_data"
    }
   ],
   "source": [
    "# summarize history for accuracy\n",
    "import matplotlib.pyplot as plt\n",
    "plt.plot(history.history['acc'])\n",
    "\n",
    "plt.title('model accuracy')\n",
    "plt.ylabel('accuracy')\n",
    "plt.xlabel('epoch')\n",
    "plt.legend(['train', 'test'], loc='upper left')\n",
    "plt.show()\n",
    "# summarize history for loss\n",
    "plt.plot(history.history['loss'])\n",
    "\n",
    "plt.title('model loss')\n",
    "plt.ylabel('loss')\n",
    "plt.xlabel('epoch')\n",
    "plt.legend(['train', 'test'], loc='upper left')\n",
    "plt.show()"
   ]
  }
 ],
 "metadata": {
  "kernelspec": {
   "display_name": "Python 3",
   "language": "python",
   "name": "python3"
  },
  "language_info": {
   "codemirror_mode": {
    "name": "ipython",
    "version": 3
   },
   "file_extension": ".py",
   "mimetype": "text/x-python",
   "name": "python",
   "nbconvert_exporter": "python",
   "pygments_lexer": "ipython3",
   "version": "3.7.1"
  }
 },
 "nbformat": 4,
 "nbformat_minor": 2
}
