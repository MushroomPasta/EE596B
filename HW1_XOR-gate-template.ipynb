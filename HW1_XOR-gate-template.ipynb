{
 "cells": [
  {
   "cell_type": "code",
   "execution_count": null,
   "metadata": {
    "collapsed": true,
    "deletable": true,
    "editable": true
   },
   "outputs": [],
   "source": [
    "import tensorflow as tf\n",
    "import numpy as np\n",
    "import matplotlib.pyplot as plt"
   ]
  },
  {
   "cell_type": "markdown",
   "metadata": {
    "deletable": true,
    "editable": true
   },
   "source": [
    "<h2>Define Hyper-parameters</h2>"
   ]
  },
  {
   "cell_type": "code",
   "execution_count": null,
   "metadata": {
    "collapsed": true,
    "deletable": true,
    "editable": true
   },
   "outputs": [],
   "source": [
    "lr = 0.01\n",
    "\n",
    "epochs = 500\n"
   ]
  },
  {
   "cell_type": "markdown",
   "metadata": {
    "deletable": true,
    "editable": true
   },
   "source": [
    "<h2>Define your input data and expected labels</h2>"
   ]
  },
  {
   "cell_type": "code",
   "execution_count": null,
   "metadata": {
    "collapsed": true,
    "deletable": true,
    "editable": true
   },
   "outputs": [],
   "source": [
    "x=np.array([[1,0],[0,1],[1,1],[0,0]])\n",
    "y=np.array([[1],[1],[0],[0]])\n",
    "tf.reset_default_graph()"
   ]
  },
  {
   "cell_type": "markdown",
   "metadata": {
    "deletable": true,
    "editable": true
   },
   "source": [
    "<h2>Define placeholder and Variables</h2>"
   ]
  },
  {
   "cell_type": "code",
   "execution_count": null,
   "metadata": {
    "collapsed": true,
    "deletable": true,
    "editable": true
   },
   "outputs": [],
   "source": [
    "\n",
    "def init_weights(shape):\n",
    "    return tf.Variable(tf.random_normal(shape,stddev=0.1))\n",
    "X = tf.placeholder(tf.float32, [None,2],name='X')\n",
    "Y = tf.placeholder(tf.float32, [None,1],name='Y')\n",
    "\n",
    "w1 = init_weights([2,2])\n",
    "b1 = init_weights([2])\n",
    "w2 = init_weights([2,1])\n",
    "b2 = init_weights([1])"
   ]
  },
  {
   "cell_type": "markdown",
   "metadata": {
    "deletable": true,
    "editable": true
   },
   "source": [
    "<h2>Define the neural network</h2>"
   ]
  },
  {
   "cell_type": "code",
   "execution_count": null,
   "metadata": {
    "collapsed": true,
    "deletable": true,
    "editable": true
   },
   "outputs": [],
   "source": [
    "def forward(x,w1,b1,w2,b2,train=True):\n",
    "    Z = tf.nn.sigmoid(tf.matmul(x,w1)+b1)\n",
    "    Z2 = tf.matmul(Z,w2)+b2\n",
    "    if train:\n",
    "        return Z2\n",
    "    else:\n",
    "        return tf.nn.sigmoid(Z2)\n",
    "y_hat = forward(X,w1,b1,w2,b2)\n",
    "pred = forward(X,w1,b1,w2,b2,False)"
   ]
  },
  {
   "cell_type": "markdown",
   "metadata": {
    "deletable": true,
    "editable": true
   },
   "source": [
    "<h2>Define cost function</h2>"
   ]
  },
  {
   "cell_type": "code",
   "execution_count": null,
   "metadata": {
    "collapsed": true
   },
   "outputs": [],
   "source": [
    "cost = tf.reduce_mean(\n",
    "        tf.nn.sigmoid_cross_entropy_with_logits(\n",
    "                logits=y_hat,labels=Y))\n",
    "\n",
    "\n",
    "train = tf.train.GradientDescentOptimizer(lr).minimize(cost)\n",
    "#compare the predicted labels with true labels\n",
    "correct_pred = tf.equal(tf.argmax(y_hat,1),tf.argmax(Y,1))\n",
    "\n",
    "#compute the accuracy by taking average\n",
    "accuracy = tf.reduce_mean(tf.cast(correct_pred,tf.float32),name='accuracy')\n",
    "\n",
    "costs = []\n",
    "\n"
   ]
  },
  {
   "cell_type": "markdown",
   "metadata": {
    "deletable": true,
    "editable": true
   },
   "source": [
    "<h2>Execute training</h2>"
   ]
  },
  {
   "cell_type": "code",
   "execution_count": null,
   "metadata": {
    "collapsed": true,
    "deletable": true,
    "editable": true,
    "scrolled": false
   },
   "outputs": [],
   "source": [
    "init = tf.global_variables_initializer()\n",
    "with tf.Session() as sess:\n",
    "\n",
    "    sess.run(init)\n",
    "    for i in range(epochs):\n",
    "        sess.run(train,feed_dict={X:x,Y:y})\n",
    "        c = sess.run(cost,feed_dict={X:x,Y:y})\n",
    "        costs.append(c)\n",
    "        if i % 100 ==0:\n",
    "                acc = sess.run(accuracy,feed_dict={X:x, Y:y})\n",
    "                print(\"step \"+str(i)+\", Accuracy= {:.3f}\".format(acc))\n",
    "    print(\"train complete\")\n",
    "    \n",
    "    W1 = np.squeeze(sess.run(w1))\n",
    "    b1 = np.squeeze(sess.run(b1))\n",
    "    W2 = np.squeeze(sess.run(w2))\n",
    "    b2 = np.squeeze(sess.run(b2))"
   ]
  },
  {
   "cell_type": "markdown",
   "metadata": {
    "deletable": true,
    "editable": true
   },
   "source": [
    "<h2>Plot</h2>"
   ]
  },
  {
   "cell_type": "code",
   "execution_count": null,
   "metadata": {
    "collapsed": true,
    "deletable": true,
    "editable": true
   },
   "outputs": [],
   "source": [
    "#plot cost\n",
    "plt.plot(costs)\n",
    "plt.show()\n",
    "W1=W1.flatten()\n",
    "#plot decision boundaries\n",
    "plot_x1 = np.array([np.min(x[:, 0] - 0.2), np.max(x[:, 1]+0.2)])\n",
    "plot_y1 = 1 / W1[1] * (-W1[0] * plot_x1 - b1)\n",
    "plot_x2 = np.array([np.min(x[:, 0] - 0.2), np.max(x[:, 1]+0.2)])\n",
    "plot_y2 = 1 / W2[1] * (-W2[0] * plot_x2 - b2)\n",
    "plt.scatter(x[:, 0], x[:, 1], c=np.squeeze(y), s=100, cmap='viridis')\n",
    "plt.plot(plot_x1, plot_y1, color='k', linewidth=2)\n",
    "plt.plot(plot_x2, plot_y2, color='k', linewidth=2)\n",
    "plt.xlim([-0.2, 1.2]); plt.ylim([-0.2, 1.25]);\n",
    "plt.show()"
   ]
  }
 ],
 "metadata": {
  "kernelspec": {
   "display_name": "Python 3",
   "language": "python",
   "name": "python3"
  },
  "language_info": {
   "codemirror_mode": {
    "name": "ipython",
    "version": 3
   },
   "file_extension": ".py",
   "mimetype": "text/x-python",
   "name": "python",
   "nbconvert_exporter": "python",
   "pygments_lexer": "ipython3",
   "version": "3.5.2"
  }
 },
 "nbformat": 4,
 "nbformat_minor": 2
}
